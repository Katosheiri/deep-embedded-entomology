{
 "cells": [
  {
   "cell_type": "code",
   "execution_count": 79,
   "id": "bbe572a0-c096-4881-bea0-e16552063469",
   "metadata": {},
   "outputs": [
    {
     "name": "stdout",
     "output_type": "stream",
     "text": [
      "nombre de valeurs recues:  150528\n",
      "Nombre de termes différents de 0 : 50176\n"
     ]
    },
    {
     "data": {
      "text/plain": [
       "<matplotlib.image.AxesImage at 0xffff6bc802e0>"
      ]
     },
     "execution_count": 79,
     "metadata": {},
     "output_type": "execute_result"
    },
    {
     "data": {
      "image/png": "[encoded data removed]",
      "text/plain": [
       "<Figure size 432x288 with 1 Axes>"
      ]
     },
     "metadata": {
      "needs_background": "light"
     },
     "output_type": "display_data"
    }
   ],
   "source": [
    "import serial\n",
    "import numpy as np\n",
    "import matplotlib.pyplot as plt\n",
    "\n",
    "# Serial port configuration\n",
    "port = '/dev/ttyUSB0'\n",
    "baudrate = 115200\n",
    "timeout = 10\n",
    "\n",
    "# Open the serial port\n",
    "ser = serial.Serial(port, baudrate, timeout=timeout)\n",
    "\n",
    "# File to save the received audio data\n",
    "filename = 'received_data.txt'\n",
    "\n",
    "def convert_to_int8(data):\n",
    "    data_str = data.decode('latin1')\n",
    "\n",
    "    if data_str.startswith('\\\\x'):\n",
    "        hex_value = data_str[2:]\n",
    "        value = int(hex_value, 16)\n",
    "    else:\n",
    "        value = ord(data_str)\n",
    "    \n",
    "    return value\n",
    "\n",
    "image_shape = (224, 224, 3)\n",
    "image_size = 224*224*3\n",
    "image = np.zeros(image_size, dtype=np.int16)\n",
    "i = 0\n",
    "\n",
    "while True:\n",
    "    # Read data from the serial port\n",
    "    data = ser.read()\n",
    "    if (data == b''):\n",
    "        break\n",
    "    image[i] = convert_to_int8(data)\n",
    "    i = i + 1\n",
    "\n",
    "ser.close()\n",
    "\n",
    "np.set_printoptions(threshold = np.inf)\n",
    "print(\"Number of values received: \", i)\n",
    "\n",
    "count_non_zero = len([x for x in image if x != 0])\n",
    "print(f'Number of values different than 0 : {count_non_zero}')\n",
    "\n",
    "reshaped_image = np.reshape(image, image_shape)\n",
    "\n",
    "plt.imshow(reshaped_image)"
   ]
  }
 ],
 "metadata": {
  "kernelspec": {
   "display_name": "Python 3 (ipykernel)",
   "language": "python",
   "name": "python3"
  },
  "language_info": {
   "codemirror_mode": {
    "name": "ipython",
    "version": 3
   },
   "file_extension": ".py",
   "mimetype": "text/x-python",
   "name": "python",
   "nbconvert_exporter": "python",
   "pygments_lexer": "ipython3",
   "version": "3.10.4"
  }
 },
 "nbformat": 4,
 "nbformat_minor": 5
}
