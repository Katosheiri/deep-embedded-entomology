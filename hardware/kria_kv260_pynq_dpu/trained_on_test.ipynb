{
 "cells": [
  {
   "cell_type": "markdown",
   "metadata": {},
   "source": [
    "# DPU : Resnet50 trained on Tipu12\n",
    "----"
   ]
  },
  {
   "cell_type": "markdown",
   "metadata": {},
   "source": [
    "## 0. Extract dataset\n",
    "We extract the dataset if needed"
   ]
  },
  {
   "cell_type": "code",
   "execution_count": 1,
   "metadata": {},
   "outputs": [
    {
     "name": "stdout",
     "output_type": "stream",
     "text": [
      "Files already exist in path: tipu12\n"
     ]
    }
   ],
   "source": [
    "import tarfile\n",
    "import os\n",
    "\n",
    "# Define the file paths\n",
    "tar_xz_file = 'test_tipu12.tar.xz'\n",
    "extract_path = 'tipu12'\n",
    "\n",
    "# Extract the tar.xz file\n",
    "if not os.path.exists(extract_path):\n",
    "    os.makedirs(extract_path)\n",
    "    \n",
    "    with tarfile.open(tar_xz_file, 'r:xz') as tar:\n",
    "        tar.extractall(path=extract_path)\n",
    "    print(f'Files extracted to path: {extract_path}')\n",
    "else:\n",
    "    print(f'Files already exist in path: {extract_path}')"
   ]
  },
  {
   "cell_type": "markdown",
   "metadata": {},
   "source": [
    "## 1. Prepare the overlay\n",
    "We will download the overlay onto the board. "
   ]
  },
  {
   "cell_type": "code",
   "execution_count": 2,
   "metadata": {},
   "outputs": [
    {
     "data": {
      "application/javascript": [
       "\n",
       "try {\n",
       "require(['notebook/js/codecell'], function(codecell) {\n",
       "  codecell.CodeCell.options_default.highlight_modes[\n",
       "      'magic_text/x-csrc'] = {'reg':[/^%%microblaze/]};\n",
       "  Jupyter.notebook.events.one('kernel_ready.Kernel', function(){\n",
       "      Jupyter.notebook.get_cells().map(function(cell){\n",
       "          if (cell.cell_type == 'code'){ cell.auto_highlight(); } }) ;\n",
       "  });\n",
       "});\n",
       "} catch (e) {};\n"
      ]
     },
     "metadata": {},
     "output_type": "display_data"
    },
    {
     "data": {
      "application/javascript": [
       "\n",
       "try {\n",
       "require(['notebook/js/codecell'], function(codecell) {\n",
       "  codecell.CodeCell.options_default.highlight_modes[\n",
       "      'magic_text/x-csrc'] = {'reg':[/^%%pybind11/]};\n",
       "  Jupyter.notebook.events.one('kernel_ready.Kernel', function(){\n",
       "      Jupyter.notebook.get_cells().map(function(cell){\n",
       "          if (cell.cell_type == 'code'){ cell.auto_highlight(); } }) ;\n",
       "  });\n",
       "});\n",
       "} catch (e) {};\n"
      ]
     },
     "metadata": {},
     "output_type": "display_data"
    }
   ],
   "source": [
    "from pynq_dpu import DpuOverlay\n",
    "overlay = DpuOverlay(\"dpu.bit\")"
   ]
  },
  {
   "cell_type": "markdown",
   "metadata": {},
   "source": [
    "## 2. Utility functions\n",
    "\n",
    "In this section, we will prepare a few functions for later use."
   ]
  },
  {
   "cell_type": "code",
   "execution_count": 3,
   "metadata": {},
   "outputs": [],
   "source": [
    "import os\n",
    "import time\n",
    "import numpy as np\n",
    "import cv2\n",
    "import matplotlib.pyplot as plt\n",
    "%matplotlib inline"
   ]
  },
  {
   "cell_type": "markdown",
   "metadata": {},
   "source": [
    "The `load_model()` method will automatically prepare the `graph`\n",
    "which is used by VART. It takes the `.xmodel` in argument."
   ]
  },
  {
   "cell_type": "code",
   "execution_count": 4,
   "metadata": {},
   "outputs": [],
   "source": [
    "overlay.load_model(\"kv260_tipu12.xmodel\")"
   ]
  },
  {
   "cell_type": "markdown",
   "metadata": {},
   "source": [
    "We first define our preprocessing functions. These functions need to be the same ones as used for traing the model."
   ]
  },
  {
   "cell_type": "code",
   "execution_count": 44,
   "metadata": {},
   "outputs": [],
   "source": [
    "_R_MEAN = 123.68\n",
    "_G_MEAN = 116.78\n",
    "_B_MEAN = 103.94\n",
    "\n",
    "MEANS = [_B_MEAN,_G_MEAN,_R_MEAN]\n",
    "\n",
    "def resize_shortest_edge(image, size):\n",
    "    H, W = image.shape[:2]\n",
    "    if H >= W:\n",
    "        nW = size\n",
    "        nH = int(float(H)/W * size)\n",
    "    else:\n",
    "        nH = size\n",
    "        nW = int(float(W)/H * size)\n",
    "    return cv2.resize(image,(nW,nH))\n",
    "\n",
    "def mean_image_subtraction(image, means):\n",
    "    B, G, R = cv2.split(image)\n",
    "    B = B - means[0]\n",
    "    G = G - means[1]\n",
    "    R = R - means[2]\n",
    "    image = cv2.merge([R, G, B])\n",
    "    return image\n",
    "\n",
    "def BGR2RGB(image):\n",
    "    B, G, R = cv2.split(image)\n",
    "    image = cv2.merge([R, G, B])\n",
    "    return image\n",
    "\n",
    "def central_crop(image, crop_height, crop_width):\n",
    "    image_height = image.shape[0]\n",
    "    image_width = image.shape[1]\n",
    "    offset_height = (image_height - crop_height) // 2\n",
    "    offset_width = (image_width - crop_width) // 2\n",
    "    return image[offset_height:offset_height + crop_height, offset_width:\n",
    "                 offset_width + crop_width, :]\n",
    "\n",
    "def normalize(image):\n",
    "    image=image/256.0\n",
    "    image=image-0.5\n",
    "    image=image*2\n",
    "    return image\n",
    "\n",
    "def preprocess_fn(image, image_path, crop_height = 224, crop_width = 224):\n",
    "    if image is None:\n",
    "        raise ValueError(f\"Error reading image at {image_path}\")\n",
    "    image = resize_shortest_edge(image, 256)\n",
    "    #image = mean_image_subtraction(image, MEANS)\n",
    "    image = central_crop(image, crop_height, crop_width)\n",
    "    image = BGR2RGB(image)\n",
    "    image = normalize(image)\n",
    "    return image"
   ]
  },
  {
   "cell_type": "markdown",
   "metadata": {},
   "source": [
    "We will also define a few functions to calculate softmax and provide \n",
    "the output class after running a DPU task."
   ]
  },
  {
   "cell_type": "code",
   "execution_count": 45,
   "metadata": {},
   "outputs": [],
   "source": [
    "class_file = \"tipu12_class_to_order.txt\"\n",
    "\n",
    "def calculate_softmax(data):\n",
    "    e_x = np.exp(data - np.max(data))\n",
    "    return e_x / e_x.sum()\n",
    "\n",
    "def predict_label(softmax):\n",
    "    with open(class_file, \"r\") as f:\n",
    "        lines = f.readlines()\n",
    "        lines = [item.strip() for item in lines]\n",
    "        class_arg = np.argmax(softmax)\n",
    "        class_name = lines[class_arg]\n",
    "    return class_name, class_arg"
   ]
  },
  {
   "cell_type": "markdown",
   "metadata": {},
   "source": [
    "## 3. Use VART\n",
    "Now we should be able to use VART to do image classification."
   ]
  },
  {
   "cell_type": "code",
   "execution_count": 46,
   "metadata": {},
   "outputs": [],
   "source": [
    "dpu = overlay.runner\n",
    "\n",
    "inputTensors = dpu.get_input_tensors()\n",
    "outputTensors = dpu.get_output_tensors()\n",
    "\n",
    "shapeIn = tuple(inputTensors[0].dims)\n",
    "shapeOut = tuple(outputTensors[0].dims)\n",
    "outputSize = int(outputTensors[0].get_data_size() / shapeIn[0])\n",
    "\n",
    "softmax = np.empty(outputSize)"
   ]
  },
  {
   "cell_type": "markdown",
   "metadata": {},
   "source": [
    "We can define a few buffers to store input and output data. They will be reused\n",
    "during multiple runs."
   ]
  },
  {
   "cell_type": "code",
   "execution_count": 47,
   "metadata": {},
   "outputs": [],
   "source": [
    "output_data = [np.empty(shapeOut, dtype=np.float32, order=\"C\")]\n",
    "input_data = [np.empty(shapeIn, dtype=np.float32, order=\"C\")]\n",
    "image = input_data[0]"
   ]
  },
  {
   "cell_type": "code",
   "execution_count": 52,
   "metadata": {},
   "outputs": [
    {
     "name": "stdout",
     "output_type": "stream",
     "text": [
      "Total number of images in dataset: 3232\n",
      "Performance: 37.94 FPS\n",
      "Accuracy: 72.56%\n",
      "Correct: 2345\n",
      "{'Trichoptera': 227, 'Orthoptera': 166, 'Hymenoptera': 256, 'Neuroptera': 185, 'Megaloptera': 246, 'Phasmida': 151, 'Odonata': 227, 'Coleoptera': 161, 'Diptera': 177, 'Hemiptera': 145, 'Mantodea': 180, 'Lepidoptera': 224}\n",
      "OrderedDict([('Coleoptera', 161), ('Diptera', 177), ('Hemiptera', 145), ('Hymenoptera', 256), ('Lepidoptera', 224), ('Mantodea', 180), ('Megaloptera', 246), ('Neuroptera', 185), ('Odonata', 227), ('Orthoptera', 166), ('Phasmida', 151), ('Trichoptera', 227)])\n",
      "Class Coleoptera - Accuracy: 58.76% (161/274)\n",
      "Class Diptera - Accuracy: 62.11% (177/285)\n",
      "Class Hemiptera - Accuracy: 52.16% (145/278)\n",
      "Class Hymenoptera - Accuracy: 71.31% (256/359)\n",
      "Class Lepidoptera - Accuracy: 80.58% (224/278)\n",
      "Class Mantodea - Accuracy: 82.57% (180/218)\n",
      "Class Megaloptera - Accuracy: 90.77% (246/271)\n",
      "Class Neuroptera - Accuracy: 69.29% (185/267)\n",
      "Class Odonata - Accuracy: 82.55% (227/275)\n",
      "Class Orthoptera - Accuracy: 69.46% (166/239)\n",
      "Class Phasmida - Accuracy: 66.23% (151/228)\n",
      "Class Trichoptera - Accuracy: 87.31% (227/260)\n",
      "[0.5875912408759124, 0.6210526315789474, 0.5215827338129496, 0.713091922005571, 0.8057553956834532, 0.8256880733944955, 0.9077490774907749, 0.6928838951310862, 0.8254545454545454, 0.694560669456067, 0.6622807017543859, 0.8730769230769231]\n"
     ]
    }
   ],
   "source": [
    "from collections import OrderedDict\n",
    "\n",
    "def count_total_images(dataset_folder):\n",
    "    total = 0\n",
    "    for class_folder in os.listdir(dataset_folder):\n",
    "        class_path = os.path.join(dataset_folder, class_folder)\n",
    "        if os.path.isdir(class_path):\n",
    "            total += len(os.listdir(class_path))\n",
    "    return total\n",
    "\n",
    "def is_image_file(file_path):\n",
    "    valid_extensions = ['.jpg', '.jpeg', '.png', '.bmp']\n",
    "    ext = os.path.splitext(file_path)[-1].lower()\n",
    "    return ext in valid_extensions\n",
    "\n",
    "predictions_list = []\n",
    "label_names_list = []\n",
    "class_accuracy = []\n",
    "accuracy = []\n",
    "\n",
    "def calculate_accuracy(dpu, input_data, output_data, image_folder):\n",
    "    correct = 0\n",
    "    total = count_total_images(image_folder)\n",
    "    print(f\"Total number of images in dataset: {total}\")\n",
    "    \n",
    "    class_correct = {}\n",
    "    class_total = {}\n",
    "    \n",
    "    time1 = time.time()\n",
    "    for class_folder in os.listdir(image_folder):\n",
    "        class_path = os.path.join(image_folder, class_folder)\n",
    "        if not os.path.isdir(class_path):\n",
    "            continue\n",
    "        \n",
    "        class_label = class_folder\n",
    "        class_images = os.listdir(class_path)\n",
    "        \n",
    "        # Initialize class counters\n",
    "        if class_label not in class_correct:\n",
    "            class_correct[class_label] = 0\n",
    "            class_total[class_label] = 0\n",
    "\n",
    "        for image_name in class_images:\n",
    "            image_path = os.path.join(class_path, image_name)\n",
    "\n",
    "            # Skip non-image files (e.g., .ipynb_checkpoints)\n",
    "            if not is_image_file(image_path):\n",
    "                continue\n",
    "\n",
    "            # Preprocess image\n",
    "            preprocessed = preprocess_fn(cv2.imread(image_path), image_path)\n",
    "            image[0,...] = preprocessed.reshape(shapeIn[1:])\n",
    "\n",
    "            # Execute DPU inference\n",
    "            job_id = dpu.execute_async(input_data, output_data)\n",
    "            dpu.wait(job_id)\n",
    "\n",
    "            # Process output and calculate softmax\n",
    "            temp = [j.reshape(1, outputSize) for j in output_data]\n",
    "            softmax = calculate_softmax(temp[0][0])\n",
    "            predicted_label = predict_label(softmax)\n",
    "            predictions_list.append(predicted_label[0])\n",
    "            label_names_list.append(class_label)\n",
    "\n",
    "            if predicted_label[0] == class_label:\n",
    "                correct += 1\n",
    "                class_correct[class_label] += 1\n",
    "\n",
    "            class_total[class_label] += 1\n",
    "\n",
    "    time2 = time.time()\n",
    "    fps = total/(time2-time1)\n",
    "    print(f\"Performance: {fps:.2f} FPS\")\n",
    "\n",
    "    accuracy.append(correct / total)\n",
    "    print(f\"Accuracy: {accuracy[0] * 100:.2f}%\")\n",
    "    print(f\"Correct: {correct}\")\n",
    "\n",
    "    # Calculate and print per-class accuracy\n",
    "    class_correct = OrderedDict(sorted(class_correct.items()))\n",
    "    idx_class_label = 0\n",
    "    for class_label in class_correct:\n",
    "        class_accuracy.append(class_correct[class_label] / class_total[class_label])\n",
    "        print(f\"Class {class_label} - Accuracy: {class_accuracy[idx_class_label] * 100:.2f}% ({class_correct[class_label]}/{class_total[class_label]})\")\n",
    "        idx_class_label += 1\n",
    "\n",
    "image_folder = os.path.join(extract_path, \"test/\")\n",
    "calculate_accuracy(dpu, input_data, output_data, image_folder)"
   ]
  },
  {
   "cell_type": "markdown",
   "metadata": {},
   "source": [
    "### Print accuracy per class graph"
   ]
  },
  {
   "cell_type": "code",
   "execution_count": 54,
   "metadata": {},
   "outputs": [
    {
     "name": "stderr",
     "output_type": "stream",
     "text": [
      "/tmp/ipykernel_7089/3014086060.py:22: FutureWarning: \n",
      "\n",
      "Passing `palette` without assigning `hue` is deprecated and will be removed in v0.14.0. Assign the `x` variable to `hue` and set `legend=False` for the same effect.\n",
      "\n",
      "  ax = sns.barplot(x=class_names, y=class_accuracy_denormalized, palette=colors)\n"
     ]
    },
    {
     "data": {
      "image/png": "[encoded data removed]",
      "text/plain": [
       "<Figure size 864x576 with 2 Axes>"
      ]
     },
     "metadata": {
      "needs_background": "light"
     },
     "output_type": "display_data"
    }
   ],
   "source": [
    "import seaborn as sns\n",
    "\n",
    "from matplotlib.colors import Normalize\n",
    "from matplotlib.cm import ScalarMappable\n",
    "\n",
    "# Normalize accuracies for colormap\n",
    "norm = Normalize(vmin=0, vmax=1)\n",
    "sm = ScalarMappable(cmap='RdYlGn', norm=norm)\n",
    "sm.set_array([])\n",
    "\n",
    "class_accuracy_denormalized = [acc * 100 for acc in class_accuracy]\n",
    "\n",
    "# Load class names from the class_map file\n",
    "with open(class_file, \"r\") as file:\n",
    "    class_names = [line.strip() for line in file.readlines()]\n",
    "\n",
    "# Attribute colors depending on accuracies value\n",
    "colors = [sm.to_rgba(acc) for acc in class_accuracy]\n",
    "\n",
    "# Create graph\n",
    "plt.figure(figsize=(12, 8))\n",
    "ax = sns.barplot(x=class_names, y=class_accuracy_denormalized, palette=colors)\n",
    "plt.xlabel('Class')\n",
    "plt.ylabel('Accuracy (%)')\n",
    "plt.title('Accuracy per Class')\n",
    "plt.xticks(rotation=90) \n",
    "plt.colorbar(sm, ax=ax, label='Accuracy')\n",
    "\n",
    "# Add accuracy on top\n",
    "for i, acc in enumerate(class_accuracy_denormalized):\n",
    "    ax.text(i, acc + 2, f'{acc:.2f}%', ha='center', va='bottom')\n",
    "\n",
    "# Add mean accuracy\n",
    "plt.text(len(class_names) - 1, max(class_accuracy_denormalized) + 5, f'Moyenne: {accuracy[0] * 100:.2f}%', ha='center', fontsize=12, bbox=dict(facecolor='white', edgecolor='black'))\n",
    "\n",
    "plt.tight_layout()\n",
    "plt.savefig('results/accuracy_per_class.png')\n",
    "plt.show()\n"
   ]
  },
  {
   "cell_type": "markdown",
   "metadata": {},
   "source": [
    "### Calculate mean f1 score"
   ]
  },
  {
   "cell_type": "markdown",
   "metadata": {},
   "source": [
    "Another interesting metric is the mean f1 score."
   ]
  },
  {
   "cell_type": "code",
   "execution_count": 56,
   "metadata": {},
   "outputs": [
    {
     "name": "stdout",
     "output_type": "stream",
     "text": [
      "f1_score_mean: 0.7231203788817809\n"
     ]
    }
   ],
   "source": [
    "from sklearn.metrics import confusion_matrix\n",
    "\n",
    "def confusion_matrix_stats(conf_mat):\n",
    "    # Counting true positives, false positives, true negatives, and false negatives\n",
    "    true_positives = np.diag(conf_mat)\n",
    "    false_positives = np.sum(conf_mat, axis=1) - true_positives\n",
    "    false_negatives = np.sum(conf_mat, axis=0) - true_positives\n",
    "    true_negatives = np.sum(conf_mat) - true_positives - false_positives - false_negatives\n",
    "    # F1 Score\n",
    "    f1_score = np.where((true_positives + false_positives + false_negatives) > 0, 2 * true_positives / (2 * true_positives + false_positives + false_negatives), 0)\n",
    "    return f1_score, true_positives, false_positives, false_negatives, true_negatives\n",
    "\n",
    "conf_mat = confusion_matrix(label_names_list, predictions_list)\n",
    "\n",
    "f1_score, true_positives, false_positives, false_negatives, true_negatives = confusion_matrix_stats(conf_mat)\n",
    "\n",
    "f1_score_mean = np.mean(f1_score[:])\n",
    "\n",
    "print(f\"f1_score_mean: {f1_score_mean}\")"
   ]
  },
  {
   "cell_type": "markdown",
   "metadata": {},
   "source": [
    " We will need to remove references to `vart.Runner` and let Python garbage-collect\n",
    "the unused graph objects. This will make sure we can run other notebooks without\n",
    "any issue."
   ]
  },
  {
   "cell_type": "code",
   "execution_count": 1,
   "metadata": {},
   "outputs": [
    {
     "ename": "NameError",
     "evalue": "name 'overlay' is not defined",
     "output_type": "error",
     "traceback": [
      "\u001b[0;31m---------------------------------------------------------------------------\u001b[0m",
      "\u001b[0;31mNameError\u001b[0m                                 Traceback (most recent call last)",
      "Input \u001b[0;32mIn [1]\u001b[0m, in \u001b[0;36m<cell line: 1>\u001b[0;34m()\u001b[0m\n\u001b[0;32m----> 1\u001b[0m \u001b[38;5;28;01mdel\u001b[39;00m overlay\n\u001b[1;32m      2\u001b[0m \u001b[38;5;28;01mdel\u001b[39;00m dpu\n",
      "\u001b[0;31mNameError\u001b[0m: name 'overlay' is not defined"
     ]
    }
   ],
   "source": [
    "del overlay\n",
    "del dpu"
   ]
  },
  {
   "cell_type": "markdown",
   "metadata": {},
   "source": [
    "----\n",
    "\n",
    "Copyright (C) 2021 Xilinx, Inc\n",
    "\n",
    "SPDX-License-Identifier: Apache-2.0 License\n",
    "\n",
    "----\n",
    "\n",
    "----"
   ]
  }
 ],
 "metadata": {
  "kernelspec": {
   "display_name": "Python 3 (ipykernel)",
   "language": "python",
   "name": "python3"
  },
  "language_info": {
   "codemirror_mode": {
    "name": "ipython",
    "version": 3
   },
   "file_extension": ".py",
   "mimetype": "text/x-python",
   "name": "python",
   "nbconvert_exporter": "python",
   "pygments_lexer": "ipython3",
   "version": "3.10.12"
  }
 },
 "nbformat": 4,
 "nbformat_minor": 4
}
